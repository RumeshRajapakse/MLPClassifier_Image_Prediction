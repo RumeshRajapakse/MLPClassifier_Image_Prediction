{
  "cells": [
    {
      "cell_type": "code",
      "execution_count": 19,
      "id": "a25909f5",
      "metadata": {
        "execution": {
          "iopub.execute_input": "2022-05-23T22:52:26.325359Z",
          "iopub.status.busy": "2022-05-23T22:52:26.324822Z",
          "iopub.status.idle": "2022-05-23T22:52:27.555739Z",
          "shell.execute_reply": "2022-05-23T22:52:27.554410Z"
        },
        "papermill": {
          "duration": 1.243399,
          "end_time": "2022-05-23T22:52:27.558216",
          "exception": false,
          "start_time": "2022-05-23T22:52:26.314817",
          "status": "completed"
        },
        "tags": [],
        "colab": {
          "base_uri": "https://localhost:8080/"
        },
        "id": "a25909f5",
        "outputId": "4a4564b5-4208-4e9b-f314-5635a90192af"
      },
      "outputs": [
        {
          "output_type": "stream",
          "name": "stdout",
          "text": [
            "Automatically created module for IPython interactive environment\n"
          ]
        }
      ],
      "source": [
        "from time import time\n",
        "import logging\n",
        "import matplotlib.pyplot as plt\n",
        "from sklearn.preprocessing import StandardScaler\n",
        "\n",
        "from sklearn.neural_network import MLPClassifier\n",
        "from sklearn.metrics import accuracy_score\n",
        "from sklearn.metrics import plot_confusion_matrix\n",
        "from sklearn.metrics import classification_report\n",
        "\n",
        "from sklearn.model_selection import GridSearchCV\n",
        "\n",
        "from sklearn.model_selection import train_test_split\n",
        "from sklearn.datasets import fetch_lfw_people\n",
        "from sklearn.metrics import classification_report\n",
        "from sklearn.metrics import confusion_matrix\n",
        "from sklearn.decomposition import PCA\n",
        "\n",
        "\n",
        "print(__doc__)\n",
        "\n",
        "# Display progress logs on stdout\n",
        "logging.basicConfig(level=logging.INFO, format='%(asctime)s %(message)s')"
      ]
    },
    {
      "cell_type": "code",
      "execution_count": 20,
      "id": "58a35d9b",
      "metadata": {
        "execution": {
          "iopub.execute_input": "2022-05-23T22:52:27.577345Z",
          "iopub.status.busy": "2022-05-23T22:52:27.577055Z",
          "iopub.status.idle": "2022-05-23T22:53:16.967127Z",
          "shell.execute_reply": "2022-05-23T22:53:16.966303Z"
        },
        "papermill": {
          "duration": 49.409095,
          "end_time": "2022-05-23T22:53:16.976657",
          "exception": false,
          "start_time": "2022-05-23T22:52:27.567562",
          "status": "completed"
        },
        "tags": [],
        "colab": {
          "base_uri": "https://localhost:8080/"
        },
        "id": "58a35d9b",
        "outputId": "8c7716c2-4a37-45d9-b2e7-a2f77a3f899d"
      },
      "outputs": [
        {
          "output_type": "stream",
          "name": "stdout",
          "text": [
            "Total dataset size:\n",
            "n_samples: 1288\n",
            "n_features: 1850\n",
            "n_classes: 7\n"
          ]
        }
      ],
      "source": [
        "# #############################################################################\n",
        "# Download the data, if not already on disk and load it as numpy arrays\n",
        "\n",
        "lfw_people = fetch_lfw_people(min_faces_per_person=70, resize=0.4)\n",
        "\n",
        "# introspect the images arrays to find the shapes (for plotting)\n",
        "n_samples, h, w = lfw_people.images.shape\n",
        "\n",
        "# for machine learning we use the 2 data directly (as relative pixel\n",
        "# positions info is ignored by this model)\n",
        "X = lfw_people.data\n",
        "n_features = X.shape[1]\n",
        "\n",
        "# the label to predict is the id of the person\n",
        "y = lfw_people.target\n",
        "target_names = lfw_people.target_names\n",
        "n_classes = target_names.shape[0]\n",
        "\n",
        "print(\"Total dataset size:\")\n",
        "print(\"n_samples: %d\" % n_samples)\n",
        "print(\"n_features: %d\" % n_features)\n",
        "print(\"n_classes: %d\" % n_classes)\n",
        "\n"
      ]
    },
    {
      "cell_type": "code",
      "execution_count": 21,
      "id": "f8e6fa43",
      "metadata": {
        "execution": {
          "iopub.execute_input": "2022-05-23T22:53:16.994462Z",
          "iopub.status.busy": "2022-05-23T22:53:16.993593Z",
          "iopub.status.idle": "2022-05-23T22:53:17.000816Z",
          "shell.execute_reply": "2022-05-23T22:53:17.000217Z"
        },
        "papermill": {
          "duration": 0.018507,
          "end_time": "2022-05-23T22:53:17.003057",
          "exception": false,
          "start_time": "2022-05-23T22:53:16.984550",
          "status": "completed"
        },
        "tags": [],
        "id": "f8e6fa43"
      },
      "outputs": [],
      "source": [
        "# #############################################################################\n",
        "# Split into a training set and a test set using a stratified k fold\n",
        "\n",
        "# split into a training and testing set\n",
        "#X_train, X_test, y_train, y_test = train_test_split(X, y, stratify=y, random_state=1)\n",
        "X_train, X_test, y_train, y_test = train_test_split(X, y, test_size=0.25, random_state=42)"
      ]
    },
    {
      "cell_type": "code",
      "execution_count": 22,
      "id": "3ef6e4cd",
      "metadata": {
        "execution": {
          "iopub.execute_input": "2022-05-23T22:53:17.021554Z",
          "iopub.status.busy": "2022-05-23T22:53:17.021267Z",
          "iopub.status.idle": "2022-05-23T22:53:17.026620Z",
          "shell.execute_reply": "2022-05-23T22:53:17.025962Z"
        },
        "papermill": {
          "duration": 0.016634,
          "end_time": "2022-05-23T22:53:17.028225",
          "exception": false,
          "start_time": "2022-05-23T22:53:17.011591",
          "status": "completed"
        },
        "tags": [],
        "id": "3ef6e4cd"
      },
      "outputs": [],
      "source": [
        "# Scale images to the [0, 1] range\n",
        "X_train = X_train / 255.0\n",
        "X_test = X_test / 255.0"
      ]
    },
    {
      "cell_type": "code",
      "execution_count": 23,
      "id": "ec7d6fce",
      "metadata": {
        "execution": {
          "iopub.execute_input": "2022-05-23T22:53:17.045819Z",
          "iopub.status.busy": "2022-05-23T22:53:17.045315Z",
          "iopub.status.idle": "2022-05-23T22:53:17.275405Z",
          "shell.execute_reply": "2022-05-23T22:53:17.274468Z"
        },
        "papermill": {
          "duration": 0.241818,
          "end_time": "2022-05-23T22:53:17.277930",
          "exception": false,
          "start_time": "2022-05-23T22:53:17.036112",
          "status": "completed"
        },
        "tags": [],
        "colab": {
          "base_uri": "https://localhost:8080/"
        },
        "id": "ec7d6fce",
        "outputId": "22d4528c-4c24-49e4-d5af-aeabd87f0e5f"
      },
      "outputs": [
        {
          "output_type": "stream",
          "name": "stdout",
          "text": [
            "Extracting the top 100 eigenfaces from 966 faces\n",
            "done in 0.260s\n",
            "Projecting the input data on the eigenfaces orthonormal basis\n",
            "done in 0.031s\n"
          ]
        }
      ],
      "source": [
        "# #############################################################################\n",
        "# Compute a PCA (eigenfaces) on the face dataset (treated as unlabeled\n",
        "# dataset): unsupervised feature extraction / dimensionality reduction\n",
        "n_components = 100\n",
        "\n",
        "print(\"Extracting the top %d eigenfaces from %d faces\"\n",
        "      % (n_components, X_train.shape[0]))\n",
        "t0 = time()\n",
        "pca = PCA(n_components=n_components, svd_solver='randomized',\n",
        "          whiten=True).fit(X_train)\n",
        "print(\"done in %0.3fs\" % (time() - t0))\n",
        "\n",
        "eigenfaces = pca.components_.reshape((n_components, h, w))\n",
        "\n",
        "print(\"Projecting the input data on the eigenfaces orthonormal basis\")\n",
        "t0 = time()\n",
        "X_train_pca = pca.transform(X_train)\n",
        "X_test_pca = pca.transform(X_test)\n",
        "print(\"done in %0.3fs\" % (time() - t0))"
      ]
    },
    {
      "cell_type": "code",
      "source": [
        "mlpfacerec = MLPClassifier(max_iter=100)\n",
        "parameter_space = {\n",
        "    'hidden_layer_sizes': [(15,10),(10,15)],\n",
        "    'activation': ['tanh', 'relu', 'identity', 'logistic'],\n",
        "    'solver': ['sgd', 'adam', 'lbfgs'],\n",
        "    'alpha': [0.0001, 0.05],\n",
        "    'learning_rate': ['constant','adaptive'],\n",
        "    'max_iter': [50,100,300,500],\n",
        "    'batch_size':[100,300,500],\n",
        "}\n",
        "from sklearn.model_selection import GridSearchCV\n",
        "clf = GridSearchCV(mlpfacerec, parameter_space, n_jobs=-1, cv=5)\n",
        "clf.fit(X_train_pca, y_train) "
      ],
      "metadata": {
        "id": "6ZCNFiQa_LQx"
      },
      "id": "6ZCNFiQa_LQx",
      "execution_count": null,
      "outputs": []
    },
    {
      "cell_type": "code",
      "source": [
        "print('Best parameters found:\\n', clf.best_params_)"
      ],
      "metadata": {
        "id": "CnKrPY3RSIyQ"
      },
      "id": "CnKrPY3RSIyQ",
      "execution_count": null,
      "outputs": []
    },
    {
      "cell_type": "code",
      "source": [
        "means = clf.cv_results_['mean_test_score']\n",
        "stds = clf.cv_results_['std_test_score']\n",
        "for mean, std, params in zip(means, stds, clf.cv_results_['params']):\n",
        "    print(\"%0.3f (+/-%0.03f) for %r\" % (mean, std * 2, params))"
      ],
      "metadata": {
        "id": "I6ikIxKXSSQb"
      },
      "id": "I6ikIxKXSSQb",
      "execution_count": null,
      "outputs": []
    },
    {
      "cell_type": "code",
      "execution_count": null,
      "id": "894d0348",
      "metadata": {
        "execution": {
          "iopub.execute_input": "2022-05-23T22:53:17.334249Z",
          "iopub.status.busy": "2022-05-23T22:53:17.333846Z",
          "iopub.status.idle": "2022-05-23T22:53:20.561342Z",
          "shell.execute_reply": "2022-05-23T22:53:20.560520Z"
        },
        "papermill": {
          "duration": 3.264207,
          "end_time": "2022-05-23T22:53:20.564922",
          "exception": false,
          "start_time": "2022-05-23T22:53:17.300715",
          "status": "completed"
        },
        "tags": [],
        "id": "894d0348"
      },
      "outputs": [],
      "source": [
        "# #############################################################################\n",
        "# Train MLP classification model\n",
        "\n",
        "#clf= MLPClassifier(activation='tanh', max_iter=500, hidden_layer_sizes=(15,10), \n",
        "#                   solver='adam', batch_size=300, verbose=10 , random_state=10)\n",
        "#clf.fit(X_train_pca, y_train)\n",
        "\n",
        "y_pred = clf.predict(X_test_pca)\n",
        "\n",
        "print('Accuracy: {:.2f}'.format(accuracy_score(y_test, y_pred)))"
      ]
    },
    {
      "cell_type": "code",
      "execution_count": null,
      "id": "dfcf7c43",
      "metadata": {
        "execution": {
          "iopub.execute_input": "2022-05-23T22:53:20.651571Z",
          "iopub.status.busy": "2022-05-23T22:53:20.651092Z",
          "iopub.status.idle": "2022-05-23T22:53:20.674772Z",
          "shell.execute_reply": "2022-05-23T22:53:20.673971Z"
        },
        "papermill": {
          "duration": 0.070917,
          "end_time": "2022-05-23T22:53:20.678424",
          "exception": false,
          "start_time": "2022-05-23T22:53:20.607507",
          "status": "completed"
        },
        "tags": [],
        "id": "dfcf7c43"
      },
      "outputs": [],
      "source": [
        "# #############################################################################\n",
        "# Quantitative evaluation of the model quality on the test set\n",
        "\n",
        "print(\"Predicting people's names on the test set\")\n",
        "t0 = time()\n",
        "y_pred = clf.predict(X_test_pca)\n",
        "print(\"done in %0.3fs\" % (time() - t0))\n",
        "\n",
        "print(classification_report(y_test, y_pred, target_names=target_names))\n",
        "print(confusion_matrix(y_test, y_pred, labels=range(n_classes)))"
      ]
    },
    {
      "cell_type": "code",
      "execution_count": null,
      "id": "77478095",
      "metadata": {
        "execution": {
          "iopub.execute_input": "2022-05-23T22:53:20.766825Z",
          "iopub.status.busy": "2022-05-23T22:53:20.766436Z",
          "iopub.status.idle": "2022-05-23T22:53:21.967358Z",
          "shell.execute_reply": "2022-05-23T22:53:21.966512Z"
        },
        "papermill": {
          "duration": 1.249215,
          "end_time": "2022-05-23T22:53:21.970833",
          "exception": false,
          "start_time": "2022-05-23T22:53:20.721618",
          "status": "completed"
        },
        "tags": [],
        "id": "77478095"
      },
      "outputs": [],
      "source": [
        "# #############################################################################\n",
        "# Qualitative evaluation of the predictions using matplotlib\n",
        "\n",
        "def plot_gallery(images, titles, h, w, n_row=3, n_col=4):\n",
        "    \"\"\"Helper function to plot a gallery of portraits\"\"\"\n",
        "    plt.figure(figsize=(1.8 * n_col, 2.4 * n_row))\n",
        "    plt.subplots_adjust(bottom=0, left=.01, right=.99, top=.90, hspace=.35)\n",
        "    for i in range(n_row * n_col):\n",
        "        plt.subplot(n_row, n_col, i + 1)\n",
        "        plt.imshow(images[i].reshape((h, w)), cmap=plt.cm.gray)\n",
        "        plt.title(titles[i], size=12)\n",
        "        plt.xticks(())\n",
        "        plt.yticks(())\n",
        "\n",
        "\n",
        "# plot the result of the prediction on a portion of the test set\n",
        "\n",
        "def title(y_pred, y_test, target_names, i):\n",
        "    pred_name = target_names[y_pred[i]].rsplit(' ', 1)[-1]\n",
        "    true_name = target_names[y_test[i]].rsplit(' ', 1)[-1]\n",
        "    return 'predicted: %s\\ntrue:      %s' % (pred_name, true_name)\n",
        "\n",
        "prediction_titles = [title(y_pred, y_test, target_names, i)\n",
        "                     for i in range(y_pred.shape[0])]\n",
        "\n",
        "plot_gallery(X_test, prediction_titles, h, w)\n",
        "\n",
        "# plot the gallery of the most significative eigenfaces\n",
        "\n",
        "eigenface_titles = [\"eigenface %d\" % i for i in range(eigenfaces.shape[0])]\n",
        "plot_gallery(eigenfaces, eigenface_titles, h, w)\n",
        "\n",
        "plt.show()"
      ]
    }
  ],
  "metadata": {
    "kernelspec": {
      "display_name": "Python 3",
      "language": "python",
      "name": "python3"
    },
    "language_info": {
      "codemirror_mode": {
        "name": "ipython",
        "version": 3
      },
      "file_extension": ".py",
      "mimetype": "text/x-python",
      "name": "python",
      "nbconvert_exporter": "python",
      "pygments_lexer": "ipython3",
      "version": "3.7.12"
    },
    "papermill": {
      "default_parameters": {},
      "duration": 64.691142,
      "end_time": "2022-05-23T22:53:22.722011",
      "environment_variables": {},
      "exception": null,
      "input_path": "__notebook__.ipynb",
      "output_path": "__notebook__.ipynb",
      "parameters": {},
      "start_time": "2022-05-23T22:52:18.030869",
      "version": "2.3.4"
    },
    "colab": {
      "name": "task-2-mlp.ipynb",
      "provenance": []
    }
  },
  "nbformat": 4,
  "nbformat_minor": 5
}